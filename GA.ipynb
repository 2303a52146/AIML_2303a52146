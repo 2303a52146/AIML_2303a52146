{
  "nbformat": 4,
  "nbformat_minor": 0,
  "metadata": {
    "colab": {
      "provenance": [],
      "authorship_tag": "ABX9TyPXh1auSA0FO/yPpNAEfYBC",
      "include_colab_link": true
    },
    "kernelspec": {
      "name": "python3",
      "display_name": "Python 3"
    },
    "language_info": {
      "name": "python"
    }
  },
  "cells": [
    {
      "cell_type": "markdown",
      "metadata": {
        "id": "view-in-github",
        "colab_type": "text"
      },
      "source": [
        "<a href=\"https://colab.research.google.com/github/2303a52146/AIML_2303a52146/blob/main/GA.ipynb\" target=\"_parent\"><img src=\"https://colab.research.google.com/assets/colab-badge.svg\" alt=\"Open In Colab\"/></a>"
      ]
    },
    {
      "cell_type": "code",
      "execution_count": null,
      "metadata": {
        "colab": {
          "base_uri": "https://localhost:8080/"
        },
        "id": "XZiAOE-0p_bY",
        "outputId": "d5bcc484-df15-412e-831c-ce6ae8a4cd96"
      },
      "outputs": [
        {
          "output_type": "stream",
          "name": "stdout",
          "text": [
            "MAE: 0.4600000000000016\n",
            "MSE: 0.24600000000000147\n",
            "RMSE: 0.49598387070549127\n"
          ]
        }
      ],
      "source": [
        "Y_actual = [20, 30, 40, 50, 60]\n",
        "Y_pred = [20.5, 30.3, 40.2, 50.6, 60.7]\n",
        "\n",
        "def mean_absolute_error(y_true, y_pred):\n",
        "    return sum(abs(y_t - y_p) for y_t, y_p in zip(y_true, y_pred)) / len(y_true)\n",
        "\n",
        "def mean_squared_error(y_true, y_pred):\n",
        "    return sum((y_t - y_p) ** 2 for y_t, y_p in zip(y_true, y_pred)) / len(y_true)\n",
        "\n",
        "def root_mean_squared_error(y_true, y_pred):\n",
        "    return mean_squared_error(y_true, y_pred) ** 0.5\n",
        "\n",
        "mae = mean_absolute_error(Y_actual, Y_pred)\n",
        "mse = mean_squared_error(Y_actual, Y_pred)\n",
        "rmse = root_mean_squared_error(Y_actual, Y_pred)\n",
        "\n",
        "print(f\"MAE: {mae}\")\n",
        "print(f\"MSE: {mse}\")\n",
        "print(f\"RMSE: {rmse}\")\n"
      ]
    },
    {
      "cell_type": "code",
      "source": [
        "from sklearn.metrics import mean_absolute_error, mean_squared_error\n",
        "import numpy as np\n",
        "\n",
        "Y_actual = np.array([20, 30, 40, 50, 60])\n",
        "Y_pred = np.array([20.5, 30.3, 40.2, 50.6, 60.7])\n",
        "\n",
        "mae = mean_absolute_error(Y_actual, Y_pred)\n",
        "mse = mean_squared_error(Y_actual, Y_pred)\n",
        "rmse = np.sqrt(mse)\n",
        "\n",
        "print(f\"MAE (sklearn): {mae}\")\n",
        "print(f\"MSE (sklearn): {mse}\")\n",
        "print(f\"RMSE (sklearn): {rmse}\")\n"
      ],
      "metadata": {
        "colab": {
          "base_uri": "https://localhost:8080/"
        },
        "id": "daFrpvbzqJsN",
        "outputId": "e20d9169-ae42-437e-f139-e6700862dd6e"
      },
      "execution_count": null,
      "outputs": [
        {
          "output_type": "stream",
          "name": "stdout",
          "text": [
            "MAE (sklearn): 0.4600000000000016\n",
            "MSE (sklearn): 0.24600000000000147\n",
            "RMSE (sklearn): 0.49598387070549127\n"
          ]
        }
      ]
    },
    {
      "cell_type": "code",
      "source": [
        "Y_actual = [0, 0, 1, 1, 2, 0, 0, 0, 1, 0, 2, 0, 0, 1, 1, 2, 2, 1, 0, 2, 1, 0, 2, 2, 0, 2, 1, 2, 2, 2]\n",
        "Y_pred = [0, 1, 1, 2, 0, 0, 1, 0, 2, 0, 0, 1, 2, 2, 1, 0, 2, 2, 2, 2, 1, 2, 2, 2, 0, 2, 1, 2, 2, 2]\n",
        "\n",
        "def accuracy(y_true, y_pred):\n",
        "    correct = sum(y_t == y_p for y_t, y_p in zip(y_true, y_pred))\n",
        "    return correct / len(y_true)\n",
        "\n",
        "def precision_recall_f1(y_true, y_pred, class_label):\n",
        "    tp = sum((y_t == class_label) and (y_p == class_label) for y_t, y_p in zip(y_true, y_pred))\n",
        "    fp = sum((y_t != class_label) and (y_p == class_label) for y_t, y_p in zip(y_true, y_pred))\n",
        "    fn = sum((y_t == class_label) and (y_p != class_label) for y_t, y_p in zip(y_true, y_pred))\n",
        "\n",
        "    precision = tp / (tp + fp) if (tp + fp) > 0 else 0\n",
        "    recall = tp / (tp + fn) if (tp + fn) > 0 else 0\n",
        "    f1_score = 2 * (precision * recall) / (precision + recall) if (precision + recall) > 0 else 0\n",
        "\n",
        "    return precision, recall, f1_score\n",
        "\n",
        "classes = [0, 1, 2]\n",
        "metrics = {cls: precision_recall_f1(Y_actual, Y_pred, cls) for cls in classes}\n",
        "\n",
        "print(f\"Accuracy: {accuracy(Y_actual, Y_pred)}\")\n",
        "for cls, (precision, recall, f1_score) in metrics.items():\n",
        "    print(f\"Class {cls} - Precision: {precision}, Recall: {recall}, F1-Score: {f1_score}\")\n"
      ],
      "metadata": {
        "colab": {
          "base_uri": "https://localhost:8080/"
        },
        "id": "K5GekYGBqP4H",
        "outputId": "820e581b-5572-404e-f08c-d4515fe7c625"
      },
      "execution_count": null,
      "outputs": [
        {
          "output_type": "stream",
          "name": "stdout",
          "text": [
            "Accuracy: 0.5666666666666667\n",
            "Class 0 - Precision: 0.625, Recall: 0.45454545454545453, F1-Score: 0.5263157894736842\n",
            "Class 1 - Precision: 0.5714285714285714, Recall: 0.5, F1-Score: 0.5333333333333333\n",
            "Class 2 - Precision: 0.5333333333333333, Recall: 0.7272727272727273, F1-Score: 0.6153846153846153\n"
          ]
        }
      ]
    },
    {
      "cell_type": "code",
      "source": [
        "from sklearn.metrics import accuracy_score, precision_score, recall_score, f1_score\n",
        "\n",
        "Y_actual = [0, 0, 1, 1, 2, 0, 0, 0, 1, 0, 2, 0, 0, 1, 1, 2, 2, 1, 0, 2, 1, 0, 2, 2, 0, 2, 1, 2, 2, 2]\n",
        "Y_pred = [0, 1, 1, 2, 0, 0, 1, 0, 2, 0, 0, 1, 2, 2, 1, 0, 2, 2, 2, 2, 1, 2, 2, 2, 0, 2, 1, 2, 2, 2]\n",
        "\n",
        "accuracy = accuracy_score(Y_actual, Y_pred)\n",
        "precision = precision_score(Y_actual, Y_pred, average=None)\n",
        "recall = recall_score(Y_actual, Y_pred, average=None)\n",
        "f1 = f1_score(Y_actual, Y_pred, average=None)\n",
        "\n",
        "print(f\"Accuracy (sklearn): {accuracy}\")\n",
        "for cls in range(len(precision)):\n",
        "    print(f\"Class {cls} - Precision (sklearn): {precision[cls]}, Recall (sklearn): {recall[cls]}, F1-Score (sklearn): {f1[cls]}\")\n"
      ],
      "metadata": {
        "colab": {
          "base_uri": "https://localhost:8080/"
        },
        "id": "8YxlqhQpqSFW",
        "outputId": "f3b39ceb-5419-438a-8ff8-a61a7230fdb8"
      },
      "execution_count": null,
      "outputs": [
        {
          "output_type": "stream",
          "name": "stdout",
          "text": [
            "Accuracy (sklearn): 0.5666666666666667\n",
            "Class 0 - Precision (sklearn): 0.625, Recall (sklearn): 0.45454545454545453, F1-Score (sklearn): 0.5263157894736842\n",
            "Class 1 - Precision (sklearn): 0.5714285714285714, Recall (sklearn): 0.5, F1-Score (sklearn): 0.5333333333333333\n",
            "Class 2 - Precision (sklearn): 0.5333333333333333, Recall (sklearn): 0.7272727272727273, F1-Score (sklearn): 0.6153846153846154\n"
          ]
        }
      ]
    }
  ]
}